{
 "cells": [
  {
   "cell_type": "code",
   "execution_count": 1,
   "id": "cf90d735-0438-46ec-80b0-8331ac0f12b5",
   "metadata": {},
   "outputs": [],
   "source": [
    "url = \"https://swiftbrowser.dkrz.de/public/dkrz_ffd3ca9004324ad28243244b834f92b1/euro-cordex/\"\n",
    "\n",
    "url = \"https://swift.dkrz.de/v1/dkrz_ffd3ca9004324ad28243244b834f92b1/euro-cordex/output/EUR-11/GERICS/ECMWF-ERAINT/evaluation/r1i1p1/GERICS-REMO2015/v1/mon/tas/v20180813/tas_EUR-11_ECMWF-ERAINT_evaluation_r1i1p1_GERICS-REMO2015_v1_mon_197902-198012.nc?temp_url_sig=fee10cb7e2518b300463c8f7827365d26a9a823e&temp_url_expires=2022-07-14T13:17:39Z\"\n",
    "\n",
    "url = \"https://swift.dkrz.de/v1/dkrz_ffd3ca9004324ad28243244b834f92b1/euro-cordex/output/EUR-11/GERICS/ECMWF-ERAINT/evaluation/r1i1p1/GERICS-REMO2015/v1/mon/tas/v20180813/tas_EUR-11_ECMWF-ERAINT_evaluation_r1i1p1_GERICS-REMO2015_v1_mon_197902-198012.nc\""
   ]
  },
  {
   "cell_type": "code",
   "execution_count": 2,
   "id": "86438c13-eef2-415a-8b17-5c80e0674039",
   "metadata": {},
   "outputs": [
    {
     "data": {
      "text/plain": [
       "'https://swift.dkrz.de/v1/dkrz_ffd3ca9004324ad28243244b834f92b1/euro-cordex/output/EUR-11/GERICS/ECMWF-ERAINT/evaluation/r1i1p1/GERICS-REMO2015/v1/mon/tas/v20180813/tas_EUR-11_ECMWF-ERAINT_evaluation_r1i1p1_GERICS-REMO2015_v1_mon_197902-198012.nc'"
      ]
     },
     "execution_count": 2,
     "metadata": {},
     "output_type": "execute_result"
    }
   ],
   "source": [
    "url"
   ]
  },
  {
   "cell_type": "code",
   "execution_count": 7,
   "id": "56d9299e-1f52-4e2c-a480-2ac8e956fef6",
   "metadata": {},
   "outputs": [
    {
     "data": {
      "text/plain": [
       "'https://swift.dkrz.de/v1/dkrz_ffd3ca9004324ad28243244b834f92b1/euro-cordex/output/EUR-11/GERICS/ECMWF-ERAINT/evaluation/r1i1p1/GERICS-REMO2015/v1/mon/tas/v20180813/tas_EUR-11_ECMWF-ERAINT_evaluation_r1i1p1_GERICS-REMO2015_v1_mon_197901-197912.nc'"
      ]
     },
     "execution_count": 7,
     "metadata": {},
     "output_type": "execute_result"
    }
   ],
   "source": [
    "import pandas as pd\n",
    "\n",
    "from pangeo_forge_recipes.patterns import ConcatDim, FilePattern\n",
    "from pangeo_forge_recipes.recipes import XarrayZarrRecipe\n",
    "\n",
    "dates = pd.date_range('1981-09-01', '2022-02-01', freq='D')\n",
    "\n",
    "URL_FORMAT = (\n",
    "    \"https://swift.dkrz.de/v1/dkrz_ffd3ca9004324ad28243244b834f92b1/euro-cordex/\"\n",
    "    \"output/EUR-11/GERICS/ECMWF-ERAINT/evaluation/r1i1p1/GERICS-REMO2015/v1/mon/\"\n",
    "    \"tas/v20180813/tas_EUR-11_ECMWF-ERAINT_evaluation_r1i1p1_GERICS-REMO2015_v1_mon_{start_time:%Y%m}-{end_time:%Y%m}.nc\"\n",
    ")\n",
    "\n",
    "def make_url(start_time, end_time):\n",
    "    return URL_FORMAT.format(start_time=start_time, end_time=end_time)\n",
    "\n",
    "make_url(pd.to_datetime('1979-01'), pd.to_datetime('1979-12'))\n",
    "\n",
    "time_concat_dim = ConcatDim(\"time\", dates, nitems_per_file=1)\n",
    "pattern = FilePattern(make_url, time_concat_dim)"
   ]
  },
  {
   "cell_type": "code",
   "execution_count": null,
   "id": "ca7e011d-2d55-4350-a97c-5db83b3c8cbe",
   "metadata": {},
   "outputs": [],
   "source": [
    "from pangeo_forge_recipes.recipes import setup_logging"
   ]
  }
 ],
 "metadata": {
  "kernelspec": {
   "display_name": "Python [conda env:pangeo-forge]",
   "language": "python",
   "name": "conda-env-pangeo-forge-py"
  },
  "language_info": {
   "codemirror_mode": {
    "name": "ipython",
    "version": 3
   },
   "file_extension": ".py",
   "mimetype": "text/x-python",
   "name": "python",
   "nbconvert_exporter": "python",
   "pygments_lexer": "ipython3",
   "version": "3.10.5"
  }
 },
 "nbformat": 4,
 "nbformat_minor": 5
}
